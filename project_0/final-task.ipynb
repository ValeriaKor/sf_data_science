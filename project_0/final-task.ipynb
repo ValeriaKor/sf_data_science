{
 "cells": [
  {
   "attachments": {},
   "cell_type": "markdown",
   "metadata": {},
   "source": [
    "# Финальное задание"
   ]
  },
  {
   "cell_type": "code",
   "execution_count": 10,
   "metadata": {},
   "outputs": [],
   "source": [
    "import numpy as np"
   ]
  },
  {
   "attachments": {},
   "cell_type": "markdown",
   "metadata": {},
   "source": [
    "Зададим функцию для угадывания числа за менее чем 20 попыток"
   ]
  },
  {
   "cell_type": "code",
   "execution_count": 11,
   "metadata": {},
   "outputs": [
    {
     "name": "stdout",
     "output_type": "stream",
     "text": [
      "Количество попыток: 7\n"
     ]
    }
   ],
   "source": [
    "def lion_catching_predict(number:int=1) -> int:\n",
    "    \"\"\"Угадываем число методом \"ловли льва в пустыне\" (Больцано—Вейерштрасса)\n",
    "\n",
    "    Args:\n",
    "        number (int, optional): Загаданное число. Defaults to 1.\n",
    "\n",
    "    Returns:\n",
    "        int: Число попыток\n",
    "        \n",
    "    \"\"\"\n",
    "    lst = list(range(1,101))\n",
    "    count = 0    # Счетчик\n",
    "\n",
    "    while True:    # Бесконечный цикл\n",
    "        count += 1\n",
    "        # Определяем predict_number как середину списка lst\n",
    "        predict_number = lst[len(lst)//2]\n",
    "                \n",
    "        # Если угадали - останавливаем цикл,\n",
    "        # если загаданное число меньше — переносим нижнюю границу списка на загаданное число,\n",
    "        # если загаданное число больше — переносим верхнюю границу списка на загаданное число \n",
    "        if number == predict_number:\n",
    "            break\n",
    "        elif number > predict_number:\n",
    "            lst = lst[(len(lst)//2):]\n",
    "        else:\n",
    "            lst = lst[:(len(lst)//2)]\n",
    "            \n",
    "    return(count)\n",
    "\n",
    "print(f'Количество попыток: {lion_catching_predict()}')"
   ]
  },
  {
   "attachments": {},
   "cell_type": "markdown",
   "metadata": {},
   "source": [
    "Зададим функцию для проверки способности функции lion_catching_predict угадывать число за менее чем 20 попыток (метрика качества)"
   ]
  },
  {
   "cell_type": "code",
   "execution_count": 14,
   "metadata": {},
   "outputs": [
    {
     "name": "stdout",
     "output_type": "stream",
     "text": [
      "Ваш алгоритм угадывает число в среднем за: 5 попыток\n"
     ]
    },
    {
     "data": {
      "text/plain": [
       "5"
      ]
     },
     "execution_count": 14,
     "metadata": {},
     "output_type": "execute_result"
    }
   ],
   "source": [
    "def score_game(lion_catching_predict) -> int:\n",
    "    \"\"\"За какое количество попыток в среднем из 1000 алгоритм угадает загаданное число\n",
    "\n",
    "    Args:\n",
    "        lion_catching_predict ([type]): функция угадывания\n",
    "\n",
    "    Returns:\n",
    "        int: среднее количество попыток\n",
    "        \n",
    "    \"\"\"\n",
    "    count_ls = []    # Список для сохранения количества попыток\n",
    "    np.random.seed(1)    # Фиксируем сид для воспроизводимости\n",
    "    random_array = np.random.randint(1, 101, size=(1000))    # Список загаданных чисел\n",
    "\n",
    "    # С помощью цикла добавляем в список count_ls количество попыток\n",
    "    for number in random_array:\n",
    "        count_ls.append(lion_catching_predict(number))\n",
    "\n",
    "    score = int(np.mean(count_ls))    # Среднее количество попыток\n",
    "\n",
    "    print(f'Ваш алгоритм угадывает число в среднем за: {score} попыток')\n",
    "    return(score)\n",
    "\n",
    "# Запуск \n",
    "score_game(lion_catching_predict)    # Аргумент - функция"
   ]
  }
 ],
 "metadata": {
  "kernelspec": {
   "display_name": "Python 3",
   "language": "python",
   "name": "python3"
  },
  "language_info": {
   "codemirror_mode": {
    "name": "ipython",
    "version": 3
   },
   "file_extension": ".py",
   "mimetype": "text/x-python",
   "name": "python",
   "nbconvert_exporter": "python",
   "pygments_lexer": "ipython3",
   "version": "3.9.10"
  },
  "orig_nbformat": 4
 },
 "nbformat": 4,
 "nbformat_minor": 2
}
